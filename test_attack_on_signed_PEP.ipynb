{
 "cells": [
  {
   "cell_type": "markdown",
   "id": "8e8ddacf",
   "metadata": {},
   "source": [
    "# Test attack on (Signed) PEP for weakly-self dual codes, using squares of hulls\n",
    "\n",
    "We generate a pair of codes having length $n$, dimension $k$ and hull dimension $h$, defined over a finite field with $q$ elements.\n",
    "\n",
    "We first generate the generator matrix $\\mathbf G\\in\\mathbb F_q^{k\\times n}$ of a random code with such parameters, then sample a random change of basis $\\mathbf S\\in GL_k(\\mathbb F_q)$ and a random permutation matrix $\\mathbf P\\in\\mathbb F_q^{n\\times n}$ and set\n",
    "\n",
    "$\\mathbf G' = \\mathbf S\\cdot \\mathbf G\\cdot \\mathbf P$\n",
    "\n",
    "The script optionally tests also the case of Signed PEP. To do this, set $\\mathtt{signed}\\_\\mathtt{PEP} = \\mathtt{True}$. In such a case, we sample also a random diagonal matrix $\\mathbf D\\in\\mathbb F_q^{n\\times n}$ with coefficients $\\pm 1$ and set \n",
    "\n",
    "$\\mathbf G' = \\mathbf S\\cdot \\mathbf G\\cdot \\mathbf P\\cdot \\mathbf D$"
   ]
  },
  {
   "cell_type": "code",
   "execution_count": 1,
   "id": "47df762f",
   "metadata": {},
   "outputs": [],
   "source": [
    "#simulate the attack\n",
    "import time\n",
    "\n",
    "load('code_utils.sage')\n",
    "load('ABL_sample_weakly_self_dual.sage')\n",
    "load(\"GIP_solver.sage\")"
   ]
  },
  {
   "cell_type": "markdown",
   "id": "2d633e1d",
   "metadata": {},
   "source": [
    "# Generate first code\n",
    "\n",
    "You may do this by importing one of the codes from the folder (if you want to simulate the attack on the ABL scheme), or you can generate a new code. Notice that generation of large weakly-self dual codes takes some time..."
   ]
  },
  {
   "cell_type": "code",
   "execution_count": 1,
   "id": "4b436385",
   "metadata": {},
   "outputs": [],
   "source": [
    "import csv\n",
    "\n",
    "n = 7313\n",
    "k = 450\n",
    "q = 8191\n",
    "h = 27\n",
    "signed_PEP = True #set to True if you want to test the attack on Signed PEP\n",
    "\n",
    "id_code = 0\n",
    "\n",
    "folder_name = \"codes_\"+str(n)+\"_\"+str(k)+\"_\"+str(q)+\"_\"+str(h)\n",
    "\n",
    "file_name = \"G_\"+str(n)+\"_\"+str(k)+\"_\"+str(q)+\"_\"+str(h)+\"_\"+str(id_code)\n",
    "\n",
    "Fq = GF(q)\n",
    "G = matrix(Fq,k,n)\n",
    "with open(folder_name+\"/\"+file_name, newline='\\n') as csvfile:\n",
    "    G_reader = csv.reader(csvfile, delimiter=',')\n",
    "    i = 0\n",
    "    for row in G_reader:\n",
    "        for j in range(n):\n",
    "            G[i,j] = int(row[j])\n",
    "        i += 1"
   ]
  },
  {
   "cell_type": "code",
   "execution_count": 2,
   "id": "60aedf9d",
   "metadata": {},
   "outputs": [],
   "source": [
    "n = 100\n",
    "k = 50\n",
    "q = 127\n",
    "h = 10\n",
    "signed_PEP = True #set to True if you want to test the attack on Signed PEP\n",
    "verbose = False\n",
    "\n",
    "G = faster_sample_weakly_self_dual_code(q, n, k, h, verbose)"
   ]
  },
  {
   "cell_type": "code",
   "execution_count": 3,
   "id": "8bf62444-a840-4657-af45-35fac7ac32da",
   "metadata": {},
   "outputs": [
    {
     "name": "stdout",
     "output_type": "stream",
     "text": [
      "Rank(G) =  50\n",
      "Hull dim. =  10\n"
     ]
    }
   ],
   "source": [
    "print(\"Rank(G) = \",rank(G))\n",
    "print(\"Hull dim. = \",k-rank(G*G.transpose()))"
   ]
  },
  {
   "cell_type": "markdown",
   "id": "fd42a530",
   "metadata": {},
   "source": [
    "# Sample instance of PEP"
   ]
  },
  {
   "cell_type": "code",
   "execution_count": 5,
   "id": "1e0c22d6",
   "metadata": {},
   "outputs": [
    {
     "name": "stdout",
     "output_type": "stream",
     "text": [
      "PEP instance generated\n"
     ]
    }
   ],
   "source": [
    "Fq = GF(q) #finite field\n",
    "\n",
    "#sample change of basis\n",
    "rank_S = 0\n",
    "while rank_S < k:\n",
    "    S = random_matrix(Fq, k, k)\n",
    "    rank_S = rank(S)\n",
    "\n",
    "#sample random permutation\n",
    "P_as_list = Permutations(n).random_element()\n",
    "P = P_as_list.to_matrix().change_ring(Fq)\n",
    "\n",
    "#sample random diagonal (if signed_PEP = False, this is the identity matrix)\n",
    "D = identity_matrix(Fq,n)\n",
    "\n",
    "if signed_PEP:\n",
    "    for i in range(n):\n",
    "        val = Set([Fq(1), Fq(-1)]).random_element()\n",
    "        D[i,i] = val\n",
    "        \n",
    "#compute G'\n",
    "G_prime = S*G*P*D\n",
    "\n",
    "print(\"PEP instance generated\")"
   ]
  },
  {
   "cell_type": "code",
   "execution_count": 7,
   "id": "891876e7",
   "metadata": {},
   "outputs": [
    {
     "name": "stdout",
     "output_type": "stream",
     "text": [
      "Hull dimension of U1 =  0\n",
      "Hull dimension of U2 =  0\n",
      "--> Time for computing graphs =  0.0027420520782470703  s\n",
      "--> Time for solving GIP =  0.018518686294555664  s\n",
      "Reduction to GIP concluded, total time =  0.021260738372802734  s\n",
      "we found the correct permutation!\n"
     ]
    },
    {
     "ename": "ValueError",
     "evalue": "empty range for randrange() (0, 0, 0)",
     "output_type": "error",
     "traceback": [
      "\u001b[0;31m---------------------------------------------------------------------------\u001b[0m",
      "\u001b[0;31mValueError\u001b[0m                                Traceback (most recent call last)",
      "Cell \u001b[0;32mIn [7], line 55\u001b[0m\n\u001b[1;32m     51\u001b[0m num \u001b[38;5;241m=\u001b[39m Integer(\u001b[38;5;241m0\u001b[39m)\n\u001b[1;32m     53\u001b[0m H_prime \u001b[38;5;241m=\u001b[39m codes\u001b[38;5;241m.\u001b[39mLinearCode(G_prime)\u001b[38;5;241m.\u001b[39mparity_check_matrix()\n\u001b[0;32m---> 55\u001b[0m pos_G \u001b[38;5;241m=\u001b[39m \u001b[43mCombinations\u001b[49m\u001b[43m(\u001b[49m\u001b[43mk\u001b[49m\u001b[43m,\u001b[49m\u001b[43mnum_G\u001b[49m\u001b[43m)\u001b[49m\u001b[38;5;241;43m.\u001b[39;49m\u001b[43mrandom_element\u001b[49m\u001b[43m(\u001b[49m\u001b[43m)\u001b[49m\n\u001b[1;32m     56\u001b[0m \u001b[38;5;28;01mfor\u001b[39;00m i \u001b[38;5;129;01min\u001b[39;00m pos_G:\n\u001b[1;32m     57\u001b[0m     pos_H \u001b[38;5;241m=\u001b[39m Combinations(n\u001b[38;5;241m-\u001b[39mk,num_H)\u001b[38;5;241m.\u001b[39mrandom_element()\n",
      "File \u001b[0;32m~/sage/src/sage/categories/finite_enumerated_sets.py:481\u001b[0m, in \u001b[0;36mFiniteEnumeratedSets.ParentMethods._random_element_from_unrank\u001b[0;34m(self)\u001b[0m\n\u001b[1;32m    479\u001b[0m \u001b[38;5;28;01mfrom\u001b[39;00m \u001b[38;5;21;01msage\u001b[39;00m\u001b[38;5;21;01m.\u001b[39;00m\u001b[38;5;21;01mmisc\u001b[39;00m\u001b[38;5;21;01m.\u001b[39;00m\u001b[38;5;21;01mprandom\u001b[39;00m \u001b[38;5;28;01mimport\u001b[39;00m randint\n\u001b[1;32m    480\u001b[0m c \u001b[38;5;241m=\u001b[39m \u001b[38;5;28mself\u001b[39m\u001b[38;5;241m.\u001b[39mcardinality()\n\u001b[0;32m--> 481\u001b[0m r \u001b[38;5;241m=\u001b[39m \u001b[43mrandint\u001b[49m\u001b[43m(\u001b[49m\u001b[38;5;241;43m0\u001b[39;49m\u001b[43m,\u001b[49m\u001b[43m \u001b[49m\u001b[43mc\u001b[49m\u001b[38;5;241;43m-\u001b[39;49m\u001b[38;5;241;43m1\u001b[39;49m\u001b[43m)\u001b[49m\n\u001b[1;32m    482\u001b[0m \u001b[38;5;28;01mreturn\u001b[39;00m \u001b[38;5;28mself\u001b[39m\u001b[38;5;241m.\u001b[39munrank(r)\n",
      "File \u001b[0;32m~/sage/src/sage/misc/prandom.py:137\u001b[0m, in \u001b[0;36mrandint\u001b[0;34m(a, b)\u001b[0m\n\u001b[1;32m    124\u001b[0m \u001b[38;5;28;01mdef\u001b[39;00m \u001b[38;5;21mrandint\u001b[39m(a, b):\n\u001b[1;32m    125\u001b[0m     \u001b[38;5;124mr\u001b[39m\u001b[38;5;124;03m\"\"\"\u001b[39;00m\n\u001b[1;32m    126\u001b[0m \u001b[38;5;124;03m    Return random integer in range [a, b], including both end points.\u001b[39;00m\n\u001b[1;32m    127\u001b[0m \n\u001b[0;32m   (...)\u001b[0m\n\u001b[1;32m    135\u001b[0m \u001b[38;5;124;03m        True\u001b[39;00m\n\u001b[1;32m    136\u001b[0m \u001b[38;5;124;03m    \"\"\"\u001b[39;00m\n\u001b[0;32m--> 137\u001b[0m     \u001b[38;5;28;01mreturn\u001b[39;00m \u001b[43m_pyrand\u001b[49m\u001b[43m(\u001b[49m\u001b[43m)\u001b[49m\u001b[38;5;241;43m.\u001b[39;49m\u001b[43mrandint\u001b[49m\u001b[43m(\u001b[49m\u001b[43ma\u001b[49m\u001b[43m,\u001b[49m\u001b[43m \u001b[49m\u001b[43mb\u001b[49m\u001b[43m)\u001b[49m\n",
      "File \u001b[0;32m/usr/lib/python3.10/random.py:370\u001b[0m, in \u001b[0;36mRandom.randint\u001b[0;34m(self, a, b)\u001b[0m\n\u001b[1;32m    366\u001b[0m \u001b[38;5;28;01mdef\u001b[39;00m \u001b[38;5;21mrandint\u001b[39m(\u001b[38;5;28mself\u001b[39m, a, b):\n\u001b[1;32m    367\u001b[0m     \u001b[38;5;124;03m\"\"\"Return random integer in range [a, b], including both end points.\u001b[39;00m\n\u001b[1;32m    368\u001b[0m \u001b[38;5;124;03m    \"\"\"\u001b[39;00m\n\u001b[0;32m--> 370\u001b[0m     \u001b[38;5;28;01mreturn\u001b[39;00m \u001b[38;5;28;43mself\u001b[39;49m\u001b[38;5;241;43m.\u001b[39;49m\u001b[43mrandrange\u001b[49m\u001b[43m(\u001b[49m\u001b[43ma\u001b[49m\u001b[43m,\u001b[49m\u001b[43m \u001b[49m\u001b[43mb\u001b[49m\u001b[38;5;241;43m+\u001b[39;49m\u001b[38;5;241;43m1\u001b[39;49m\u001b[43m)\u001b[49m\n",
      "File \u001b[0;32m/usr/lib/python3.10/random.py:353\u001b[0m, in \u001b[0;36mRandom.randrange\u001b[0;34m(self, start, stop, step)\u001b[0m\n\u001b[1;32m    351\u001b[0m     \u001b[38;5;28;01mif\u001b[39;00m width \u001b[38;5;241m>\u001b[39m \u001b[38;5;241m0\u001b[39m:\n\u001b[1;32m    352\u001b[0m         \u001b[38;5;28;01mreturn\u001b[39;00m istart \u001b[38;5;241m+\u001b[39m \u001b[38;5;28mself\u001b[39m\u001b[38;5;241m.\u001b[39m_randbelow(width)\n\u001b[0;32m--> 353\u001b[0m     \u001b[38;5;28;01mraise\u001b[39;00m \u001b[38;5;167;01mValueError\u001b[39;00m(\u001b[38;5;124m\"\u001b[39m\u001b[38;5;124mempty range for randrange() (\u001b[39m\u001b[38;5;132;01m%d\u001b[39;00m\u001b[38;5;124m, \u001b[39m\u001b[38;5;132;01m%d\u001b[39;00m\u001b[38;5;124m, \u001b[39m\u001b[38;5;132;01m%d\u001b[39;00m\u001b[38;5;124m)\u001b[39m\u001b[38;5;124m\"\u001b[39m \u001b[38;5;241m%\u001b[39m (istart, istop, width))\n\u001b[1;32m    355\u001b[0m \u001b[38;5;66;03m# Non-unit step argument supplied.\u001b[39;00m\n\u001b[1;32m    356\u001b[0m \u001b[38;5;28;01mif\u001b[39;00m istep \u001b[38;5;241m>\u001b[39m \u001b[38;5;241m0\u001b[39m:\n",
      "\u001b[0;31mValueError\u001b[0m: empty range for randrange() (0, 0, 0)"
     ]
    }
   ],
   "source": [
    "####compute hulls\n",
    "M1 = hull(Fq, G)\n",
    "M2 = hull(Fq, G_prime)\n",
    "\n",
    "##square hulls\n",
    "U1 = square_code(M1) #basis of square of hull for first code\n",
    "U2 = square_code(M2) #basis of square of hull for second code \n",
    "\n",
    "#Compute hulls and print their dimension\n",
    "#hull_U1 = hull(Fq, U1)\n",
    "#hull_U2 = hull(Fq, U2)\n",
    "print(\"Hull dimension of U1 = \",rank(U1)-rank(U1*U1.transpose()))\n",
    "print(\"Hull dimension of U2 = \",rank(U2)-rank(U2*U2.transpose()))\n",
    "\n",
    "#compute graphs\n",
    "start = time.time()\n",
    "A1 = graph_from_generator_matrix(U1)\n",
    "A2 = graph_from_generator_matrix(U2)\n",
    "end = time.time()\n",
    "time_gauss = end - start\n",
    "print(\"--> Time for computing graphs = \",time_gauss,\" s\")\n",
    "\n",
    "#solve GIP\n",
    "start = time.time()\n",
    "sol = simple_solve_GIP(Fq, A1, A2)\n",
    "end = time.time()\n",
    "time_GIP = end - start\n",
    "print(\"--> Time for solving GIP = \",time_GIP,\" s\")\n",
    "\n",
    "print(\"Reduction to GIP concluded, total time = \",time_gauss + time_GIP,\" s\")\n",
    "\n",
    "#Check validity of found permutation\n",
    "my_P = matrix(Fq, n, n)\n",
    "for i in range(n):\n",
    "#    print(sol[i])\n",
    "    j1 = sol[i][0]\n",
    "    j2 = sol[i][1]\n",
    "    my_P[j1, j2] = 1\n",
    "\n",
    "if my_P == P:\n",
    "    print(\"We found the correct permutation!\")\n",
    "else:\n",
    "    print(\"Found permutation is wrong, sorry :(\")\n",
    "    \n",
    "##find D\n",
    "perm_G = G*my_P\n",
    "\n",
    "#set up matrix\n",
    "num_G = 100\n",
    "num_H = 100\n",
    "A = matrix(Fq,k*(n-k),n)\n",
    "num = 0\n",
    "\n",
    "H_prime = codes.LinearCode(G_prime).parity_check_matrix()\n",
    "\n",
    "pos_G = Combinations(k,num_G).random_element()\n",
    "for i in pos_G:\n",
    "    pos_H = Combinations(n-k,num_H).random_element()\n",
    "    for j in pos_H:\n",
    "        for ell in range(n):\n",
    "            A[num,ell] = perm_G[i,ell]*H_prime[j,ell]\n",
    "        num += 1\n",
    "\n",
    "#find kernel of A\n",
    "solution_space = A.right_kernel()\n",
    "B = solution_space.basis()\n",
    "print(\"Dimension of solution space = \",len(B))\n",
    "\n",
    "b = B[0]\n",
    "\n",
    "b1 = b[0]^-1 * b\n",
    "b2 = -b1\n",
    "\n",
    "#see if b1 is ok\n",
    "ok1 = 1\n",
    "i = 0\n",
    "while (ok1 == 1)&(i<n):\n",
    "    if b1[i]==D[i,i]:\n",
    "        i += 1\n",
    "    else:\n",
    "        ok1 = 0\n",
    "\n",
    "#see if b2 is ok\n",
    "ok2 = 1\n",
    "i = 0\n",
    "while (ok2 == 1)&(i<n):\n",
    "    if b2[i]==D[i,i]:\n",
    "        i += 1\n",
    "    else:\n",
    "        ok2 = 0\n",
    "\n",
    "#check validity of solution\n",
    "if (ok1 == 1)|(ok2 == 1):\n",
    "    print(\"We retrieved also the scalar coefficients!\")\n",
    "else:\n",
    "    print(\"Something went wrong!\")\n",
    "    \n",
    "time_fin = time.time()\n",
    "\n",
    "print(\"Tot. time = \",time_fin - time_in)"
   ]
  },
  {
   "cell_type": "code",
   "execution_count": 7,
   "id": "d53f2700-c6a1-429a-a97f-2293f37c522d",
   "metadata": {},
   "outputs": [
    {
     "name": "stdout",
     "output_type": "stream",
     "text": [
      "--> Is the found permutation the same as the initial solution? True\n"
     ]
    }
   ],
   "source": [
    "print(\"--> Is the found permutation the same as the initial solution?\",P == my_P)"
   ]
  },
  {
   "cell_type": "markdown",
   "id": "8da66e91-c454-4d80-a0d6-956e098212cc",
   "metadata": {},
   "source": [
    "# Try finding D without using all equations"
   ]
  },
  {
   "cell_type": "code",
   "execution_count": 6,
   "id": "24b71a56",
   "metadata": {},
   "outputs": [
    {
     "ename": "KeyboardInterrupt",
     "evalue": "",
     "output_type": "error",
     "traceback": [
      "\u001b[0;31m---------------------------------------------------------------------------\u001b[0m",
      "\u001b[0;31mKeyboardInterrupt\u001b[0m                         Traceback (most recent call last)",
      "Cell \u001b[0;32mIn[6], line 15\u001b[0m\n\u001b[1;32m     13\u001b[0m     \u001b[38;5;28;01mfor\u001b[39;00m j \u001b[38;5;129;01min\u001b[39;00m pos_H:\n\u001b[1;32m     14\u001b[0m         \u001b[38;5;28;01mfor\u001b[39;00m ell \u001b[38;5;129;01min\u001b[39;00m \u001b[38;5;28mrange\u001b[39m(n):\n\u001b[0;32m---> 15\u001b[0m             A[num,ell] \u001b[38;5;241m=\u001b[39m perm_G[i,ell]\u001b[38;5;241m*\u001b[39mH_prime[j,ell]\n\u001b[1;32m     16\u001b[0m         num \u001b[38;5;241m+\u001b[39m\u001b[38;5;241m=\u001b[39m Integer(\u001b[38;5;241m1\u001b[39m)\n\u001b[1;32m     18\u001b[0m \u001b[38;5;66;03m#find kernel of A\u001b[39;00m\n",
      "File \u001b[0;32msrc/cysignals/signals.pyx:341\u001b[0m, in \u001b[0;36mcysignals.signals.python_check_interrupt\u001b[0;34m()\u001b[0m\n",
      "\u001b[0;31mKeyboardInterrupt\u001b[0m: "
     ]
    }
   ],
   "source": [
    "#set up matrix\n",
    "num_G = 400\n",
    "num_H = 400\n",
    "A = matrix(Fq,num_G*num_H,n)\n",
    "num = 0\n",
    "\n",
    "perm_G = G*my_P\n",
    "H_prime = codes.LinearCode(G_prime).parity_check_matrix()\n",
    "\n",
    "pos_G = Combinations(k,num_G).random_element()\n",
    "for i in pos_G:\n",
    "    pos_H = Combinations(n-k,num_H).random_element()\n",
    "    for j in pos_H:\n",
    "        for ell in range(n):\n",
    "            A[num,ell] = perm_G[i,ell]*H_prime[j,ell]\n",
    "        num += 1\n",
    "\n",
    "#find kernel of A\n",
    "solution_space = A.right_kernel()\n",
    "B = solution_space.basis()\n",
    "print(\"Dimension of solution space = \",len(B))"
   ]
  },
  {
   "cell_type": "markdown",
   "id": "16002f28-08a0-4f18-89b9-82565ef1df4c",
   "metadata": {},
   "source": [
    "### (Don't look below here!) Compute $\\mathbf G'$"
   ]
  },
  {
   "cell_type": "code",
   "execution_count": 8,
   "id": "ef2ef73b",
   "metadata": {},
   "outputs": [],
   "source": [
    "Fq = GF(q) #finite field\n",
    "\n",
    "#sample change of basis\n",
    "rank_S = 0\n",
    "while rank_S < k:\n",
    "    S = random_matrix(Fq, k, k)\n",
    "    rank_S = rank(S)\n",
    "\n",
    "#sample random permutation\n",
    "P_as_list = Permutations(n).random_element()\n",
    "P = P_as_list.to_matrix().change_ring(Fq)\n",
    "\n",
    "#sample random diagonal (if signed_PEP = False, this is the identity matrix)\n",
    "D = identity_matrix(Fq,n)\n",
    "\n",
    "if signed_PEP:\n",
    "    for i in range(n):\n",
    "        val = Set([Fq(1), Fq(-1)]).random_element()\n",
    "        D[i,i] = val\n",
    "        \n",
    "#compute G'\n",
    "G_prime = S*G*P*D"
   ]
  },
  {
   "cell_type": "markdown",
   "id": "33ac4643-ae78-463e-9ede-4465c6dca598",
   "metadata": {},
   "source": [
    "### Start the attack\n",
    "\n",
    "We now simulate our attack.\n",
    "\n",
    "##### Compute the hulls\n",
    "We consider only the hulls of the two codes, with bases $\\mathbf M_1$ and $\\mathbf M_2$"
   ]
  },
  {
   "cell_type": "code",
   "execution_count": 9,
   "id": "a6aebee8",
   "metadata": {},
   "outputs": [],
   "source": [
    "load('code_utils.sage')\n",
    "#load('ABL_sample_weakly_self_dual.sage')\n",
    "\n",
    "M1 = hull(Fq, G)\n",
    "M2 = hull(Fq, G_prime)\n",
    "\n",
    "#Sanity check: verify that the solution permutation maps the hulls\n",
    "#res = codes.LinearCode(M1*P*D) == codes.LinearCode(M2)\n",
    "#print(\"Does P*D send M1 to M2?\", res)"
   ]
  },
  {
   "cell_type": "code",
   "execution_count": 10,
   "id": "46b31294",
   "metadata": {},
   "outputs": [
    {
     "ename": "AttributeError",
     "evalue": "'sage.matrix.matrix_modn_dense_double.Matrix_modn_dense_double' object has no attribute 'basis'",
     "output_type": "error",
     "traceback": [
      "\u001b[0;31m---------------------------------------------------------------------------\u001b[0m",
      "\u001b[0;31mAttributeError\u001b[0m                            Traceback (most recent call last)",
      "Cell \u001b[0;32mIn [10], line 1\u001b[0m\n\u001b[0;32m----> 1\u001b[0m matrix(\u001b[43mM1\u001b[49m\u001b[38;5;241;43m.\u001b[39;49m\u001b[43mbasis\u001b[49m())\n",
      "File \u001b[0;32m~/sage/src/sage/structure/element.pyx:488\u001b[0m, in \u001b[0;36msage.structure.element.Element.__getattr__\u001b[0;34m()\u001b[0m\n\u001b[1;32m    486\u001b[0m         AttributeError: 'LeftZeroSemigroup_with_category.element_class' object has no attribute 'blah_blah'\n\u001b[1;32m    487\u001b[0m     \"\"\"\n\u001b[0;32m--> 488\u001b[0m     return self.getattr_from_category(name)\n\u001b[1;32m    489\u001b[0m \n\u001b[1;32m    490\u001b[0m cdef getattr_from_category(self, name):\n",
      "File \u001b[0;32m~/sage/src/sage/structure/element.pyx:501\u001b[0m, in \u001b[0;36msage.structure.element.Element.getattr_from_category\u001b[0;34m()\u001b[0m\n\u001b[1;32m    499\u001b[0m     else:\n\u001b[1;32m    500\u001b[0m         cls = P._abstract_element_class\n\u001b[0;32m--> 501\u001b[0m     return getattr_from_other_class(self, cls, name)\n\u001b[1;32m    502\u001b[0m \n\u001b[1;32m    503\u001b[0m def __dir__(self):\n",
      "File \u001b[0;32m~/sage/src/sage/cpython/getattr.pyx:362\u001b[0m, in \u001b[0;36msage.cpython.getattr.getattr_from_other_class\u001b[0;34m()\u001b[0m\n\u001b[1;32m    360\u001b[0m     dummy_error_message.cls = type(self)\n\u001b[1;32m    361\u001b[0m     dummy_error_message.name = name\n\u001b[0;32m--> 362\u001b[0m     raise AttributeError(dummy_error_message)\n\u001b[1;32m    363\u001b[0m attribute = <object>attr\n\u001b[1;32m    364\u001b[0m # Check for a descriptor (__get__ in Python)\n",
      "\u001b[0;31mAttributeError\u001b[0m: 'sage.matrix.matrix_modn_dense_double.Matrix_modn_dense_double' object has no attribute 'basis'"
     ]
    }
   ],
   "source": [
    "matrix(M1.basis())"
   ]
  },
  {
   "cell_type": "markdown",
   "id": "16a543ea-f1d1-4ae4-88f3-394444c3776c",
   "metadata": {},
   "source": [
    "##### Compute squares of the hulls\n",
    "\n",
    "We also check the hull dimension of the squares. If hulls are trivial, the attack is rather fast.\n",
    "If hulls are non trivial, then the attack may take more time."
   ]
  },
  {
   "cell_type": "code",
   "execution_count": 11,
   "id": "d2717c6c-3b01-41bd-80bc-3ab2044e2fc0",
   "metadata": {},
   "outputs": [
    {
     "name": "stdout",
     "output_type": "stream",
     "text": [
      "Hull dimension of U1 =  0\n",
      "Hull dimension of U2 =  0\n"
     ]
    }
   ],
   "source": [
    "load('code_utils.sage')\n",
    "U1 = square_code(M1) #basis of square of hull for first code\n",
    "U2 = square_code(M2) #basis of square of hull for second code \n",
    "\n",
    "#Compute hulls and print their dimension\n",
    "#hull_U1 = hull(Fq, U1)\n",
    "#hull_U2 = hull(Fq, U2)\n",
    "print(\"Hull dimension of U1 = \",rank(U1)-rank(U1*U1.transpose()))\n",
    "print(\"Hull dimension of U2 = \",rank(U2)-rank(U2*U2.transpose()))"
   ]
  },
  {
   "cell_type": "markdown",
   "id": "3b4855ea-90ab-48e9-aef8-d91527c5b0c4",
   "metadata": {},
   "source": [
    "##### Solve via reduction to GIP\n",
    "\n",
    "We call our simple GIP solver and compare the found solution with the true solution.\n",
    "\n",
    "We first compute only the permutation."
   ]
  },
  {
   "cell_type": "code",
   "execution_count": 12,
   "id": "bf4d12d0-704f-4042-b1d7-55bbc734b224",
   "metadata": {},
   "outputs": [
    {
     "name": "stdout",
     "output_type": "stream",
     "text": [
      "--> Time for computing graphs =  6.925938129425049  s\n",
      "--> Time for solving GIP =  228.54900193214417  s\n",
      "Reduction to GIP concluded, total time =  235.4749400615692  s\n"
     ]
    }
   ],
   "source": [
    "load(\"GIP_solver.sage\")\n",
    "import time\n",
    "\n",
    "#compute graphs\n",
    "start = time.time()\n",
    "A1 = graph_from_generator_matrix(U1)\n",
    "A2 = graph_from_generator_matrix(U2)\n",
    "end = time.time()\n",
    "time_gauss = end - start\n",
    "print(\"--> Time for computing graphs = \",time_gauss,\" s\")\n",
    "\n",
    "#solve GIP\n",
    "start = time.time()\n",
    "sol = simple_solve_GIP(Fq, A1, A2)\n",
    "end = time.time()\n",
    "time_GIP = end - start\n",
    "print(\"--> Time for solving GIP = \",time_GIP,\" s\")\n",
    "\n",
    "print(\"Reduction to GIP concluded, total time = \",time_gauss + time_GIP,\" s\")\n"
   ]
  },
  {
   "cell_type": "markdown",
   "id": "8ccc0044-b349-499d-8d82-0ec10bd09d57",
   "metadata": {},
   "source": [
    "Check validity of solution: we see if the found permutation matches with the true permutation"
   ]
  },
  {
   "cell_type": "code",
   "execution_count": null,
   "id": "46276425-ed31-4269-b93d-230dbd6dae25",
   "metadata": {},
   "outputs": [],
   "source": [
    "my_P = matrix(Fq, n, n)\n",
    "for i in range(n):\n",
    "#    print(sol[i])\n",
    "    j1 = sol[i][0]\n",
    "    j2 = sol[i][1]\n",
    "    my_P[j1, j2] = 1\n",
    "\n",
    "#see if permutation maps the hulls\n",
    "#print(\"--> Does the found permutation solves PEP on the hulls?\", codes.LinearCode(M1*my_P*D) == codes.LinearCode(M2))\n",
    "\n",
    "#see if permutation maps the initial codes\n",
    "#print(\"--> Does the found permutation solves PEP on the codes?\",codes.LinearCode(G*my_P*D) == codes.LinearCode(G_prime))\n",
    "\n",
    "#see if permutations are the same\n",
    "print(\"--> Is the found permutation the same as the initial solution?\",P == my_P)"
   ]
  },
  {
   "cell_type": "markdown",
   "id": "b41bcb02",
   "metadata": {},
   "source": [
    "###### Only for Signed PEP\n",
    "\n",
    "Now, recover also the scalar coefficients.\n",
    "We have found the permutation $\\mathbf P$. \n",
    "We take a parity-check matrix $\\mathbf H'$ from $\\mathbf G'$ and then set the system\n",
    "\n",
    "$\\mathbf G\\cdot \\begin{pmatrix}x_1 & 0 & \\cdots & 0\\\\\n",
    "0 & x_2 & \\cdots & 0\\\\\n",
    "\\vdots & \\vdots & \\ddots & \\vdots \\\\\n",
    "0 & 0 & \\cdots & x_n\\end{pmatrix}\\cdot \\mathbf H'^\\top = \\mathbf 0$\n",
    "\n",
    "To solve the system, we set up the matrix \n",
    "\n",
    "$\\mathbf A = \\left\\{\\widetilde{\\mathbf g}_i\\star \\mathbf h'_j\\right\\}_{\\begin{smallmatrix}1\\leq i\\leq k\\\\ 1 \\leq j \\leq n-k\\end{smallmatrix}}$\n",
    "\n",
    "with $\\widetilde{\\mathbf g}_i = i$-th row of $\\mathbf G\\cdot \\mathbf P$, $\\mathbf h'_j = j$-th row of $\\mathbf H$, and then find its right kernel. "
   ]
  },
  {
   "cell_type": "code",
   "execution_count": null,
   "id": "6af801da-3480-4b2a-adf4-c38ba4fe44f9",
   "metadata": {},
   "outputs": [],
   "source": [
    "perm_G = G*my_P\n",
    "\n",
    "#set up matrix\n",
    "\n",
    "num_G = 100\n",
    "num_H = 70\n",
    "A = matrix(Fq,k*max_u,n)\n",
    "num = 0\n",
    "\n",
    "H_prime = codes.LinearCode(G_prime).parity_check_matrix()\n",
    "\n",
    "pos_G = Combinations(k,num_G).random_element()\n",
    "for i in pos_G:\n",
    "    pos_H = Combinations(n-k,num_H).random_element()\n",
    "    for j in pos_H:\n",
    "        for ell in range(n):\n",
    "            A[num,ell] = perm_G[i,ell]*H_prime[j,ell]\n",
    "        num += 1\n",
    "\n",
    "#find kernel of A\n",
    "solution_space = A.right_kernel()\n",
    "B = solution_space.basis()\n",
    "print(\"Dimension of solution space = \",len(B))"
   ]
  },
  {
   "cell_type": "markdown",
   "id": "6f6e4760",
   "metadata": {},
   "source": [
    "When the kernel has dimension 1, it is enough to check if its generator, i.e., a vector $\\mathbf b\\in\\mathbb F_q^n$ has a scalar multiple which is composed only of values $\\pm 1$.\n",
    "\n",
    "To do this, we \"normalize\" the vector (we multiply it by the inverse of the first entry) by computing $\\mathbf b' = b_1^{-1}\\cdot \\mathbf b$ and check if either $\\mathbf g$ or $-\\mathbf g'$ correspond to the diagonal of $\\mathbf d$."
   ]
  },
  {
   "cell_type": "code",
   "execution_count": null,
   "id": "eab48efd",
   "metadata": {},
   "outputs": [],
   "source": [
    "b = B[0]\n",
    "\n",
    "b1 = b[0]^-1 * b\n",
    "b2 = -b1\n",
    "\n",
    "#see if b1 is ok\n",
    "ok1 = 1\n",
    "i = 0\n",
    "while (ok1 == 1)&(i<n):\n",
    "    if b1[i]==D[i,i]:\n",
    "        i += 1\n",
    "    else:\n",
    "        ok1 = 0\n",
    "\n",
    "#see if b2 is ok\n",
    "ok2 = 1\n",
    "i = 0\n",
    "while (ok2 == 1)&(i<n):\n",
    "    if b2[i]==D[i,i]:\n",
    "        i += 1\n",
    "    else:\n",
    "        ok2 = 0\n",
    "\n",
    "#check validity of solution\n",
    "if (ok1 == 1)|(ok2 == 1):\n",
    "    print(\"We retrieved also the scalar coefficients!\")\n",
    "else:\n",
    "    print(\"Something went wrong!\")"
   ]
  },
  {
   "cell_type": "code",
   "execution_count": null,
   "id": "d88d2812",
   "metadata": {},
   "outputs": [],
   "source": [
    "n*(n-k)*k*13/8."
   ]
  },
  {
   "cell_type": "markdown",
   "id": "dbe89f65",
   "metadata": {},
   "source": [
    "If the kernel has dimension $>1$, we search for a valid elementin the kernel.\n",
    "(Not implemented yet!!)"
   ]
  }
 ],
 "metadata": {
  "kernelspec": {
   "display_name": "SageMath 10.1",
   "language": "sage",
   "name": "sagemath"
  },
  "language_info": {
   "codemirror_mode": {
    "name": "ipython",
    "version": 3
   },
   "file_extension": ".py",
   "mimetype": "text/x-python",
   "name": "python",
   "nbconvert_exporter": "python",
   "pygments_lexer": "ipython3",
   "version": "3.10.12"
  }
 },
 "nbformat": 4,
 "nbformat_minor": 5
}
