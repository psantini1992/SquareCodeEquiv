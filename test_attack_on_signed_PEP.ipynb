{
 "cells": [
  {
   "cell_type": "markdown",
   "id": "8e8ddacf",
   "metadata": {},
   "source": [
    "# Test attack on (Signed) PEP for weakly-self dual codes, using squares of hulls\n",
    "\n",
    "We generate a pair of codes having length $n$, dimension $k$ and hull dimension $h$, defined over a finite field with $q$ elements.\n",
    "\n",
    "We first generate the generator matrix $\\mathbf G\\in\\mathbb F_q^{k\\times n}$ of a random code with such parameters, then sample a random change of basis $\\mathbf S\\in GL_k(\\mathbb F_q)$ and a random permutation matrix $\\mathbf P\\in\\mathbb F_q^{n\\times n}$ and set\n",
    "\n",
    "$\\mathbf G' = \\mathbf S\\cdot \\mathbf G\\cdot \\mathbf P$\n",
    "\n",
    "The script optionally tests also the case of Signed PEP. To do this, set $\\mathtt{signed}\\_\\mathtt{PEP} = \\mathtt{True}$. In such a case, we sample also a random diagonal matrix $\\mathbf D\\in\\mathbb F_q^{n\\times n}$ with coefficients $\\pm 1$ and set \n",
    "\n",
    "$\\mathbf G' = \\mathbf S\\cdot \\mathbf G\\cdot \\mathbf P\\cdot \\mathbf D$"
   ]
  },
  {
   "cell_type": "code",
   "execution_count": 1,
   "id": "47df762f",
   "metadata": {},
   "outputs": [],
   "source": [
    "#simulate the attack\n",
    "import time\n",
    "\n",
    "load('code_utils.sage')\n",
    "load('ABL_sample_weakly_self_dual.sage')\n",
    "load(\"GIP_solver.sage\")"
   ]
  },
  {
   "cell_type": "markdown",
   "id": "2d633e1d",
   "metadata": {},
   "source": [
    "# Generate first code\n",
    "\n",
    "You may do this by importing one of the codes from the folder (if you want to simulate the attack on the ABL scheme), or you can generate a new code. Notice that generation of large weakly-self dual codes takes some time..."
   ]
  },
  {
   "cell_type": "code",
   "execution_count": 1,
   "id": "4b436385",
   "metadata": {},
   "outputs": [],
   "source": [
    "import csv\n",
    "\n",
    "n = 7313\n",
    "k = 450\n",
    "q = 8191\n",
    "h = 27\n",
    "signed_PEP = True #set to True if you want to test the attack on Signed PEP\n",
    "\n",
    "id_code = 0\n",
    "\n",
    "folder_name = \"codes_\"+str(n)+\"_\"+str(k)+\"_\"+str(q)+\"_\"+str(h)\n",
    "\n",
    "file_name = \"G_\"+str(n)+\"_\"+str(k)+\"_\"+str(q)+\"_\"+str(h)+\"_\"+str(id_code)\n",
    "\n",
    "Fq = GF(q)\n",
    "G = matrix(Fq,k,n)\n",
    "with open(folder_name+\"/\"+file_name, newline='\\n') as csvfile:\n",
    "    G_reader = csv.reader(csvfile, delimiter=',')\n",
    "    i = 0\n",
    "    for row in G_reader:\n",
    "        for j in range(n):\n",
    "            G[i,j] = int(row[j])\n",
    "        i += 1"
   ]
  },
  {
   "cell_type": "code",
   "execution_count": 14,
   "id": "60aedf9d",
   "metadata": {},
   "outputs": [],
   "source": [
    "n = 100\n",
    "k = 50\n",
    "q = 127\n",
    "h = 10\n",
    "signed_PEP = True #set to True if you want to test the attack on Signed PEP\n",
    "verbose = False\n",
    "\n",
    "G = faster_sample_weakly_self_dual_code(q, n, k, h, verbose)"
   ]
  },
  {
   "cell_type": "code",
   "execution_count": 12,
   "id": "8bf62444-a840-4657-af45-35fac7ac32da",
   "metadata": {},
   "outputs": [
    {
     "name": "stdout",
     "output_type": "stream",
     "text": [
      "Rank(G) =  50\n",
      "Hull dim. =  10\n"
     ]
    }
   ],
   "source": [
    "print(\"Rank(G) = \",rank(G))\n",
    "print(\"Hull dim. = \",k-rank(G*G.transpose()))"
   ]
  },
  {
   "cell_type": "markdown",
   "id": "fd42a530",
   "metadata": {},
   "source": [
    "# Sample instance of PEP"
   ]
  },
  {
   "cell_type": "code",
   "execution_count": 4,
   "id": "1e0c22d6",
   "metadata": {},
   "outputs": [
    {
     "name": "stdout",
     "output_type": "stream",
     "text": [
      "PEP instance generated\n"
     ]
    }
   ],
   "source": [
    "Fq = GF(q) #finite field\n",
    "\n",
    "#sample change of basis\n",
    "rank_S = 0\n",
    "while rank_S < k:\n",
    "    S = random_matrix(Fq, k, k)\n",
    "    rank_S = rank(S)\n",
    "\n",
    "#sample random permutation\n",
    "P_as_list = Permutations(n).random_element()\n",
    "P = P_as_list.to_matrix().change_ring(Fq)\n",
    "\n",
    "#sample random diagonal (if signed_PEP = False, this is the identity matrix)\n",
    "D = identity_matrix(Fq,n)\n",
    "\n",
    "if signed_PEP:\n",
    "    for i in range(n):\n",
    "        val = Set([Fq(1), Fq(-1)]).random_element()\n",
    "        D[i,i] = val\n",
    "        \n",
    "#compute G'\n",
    "G_prime = S*G*P*D\n",
    "\n",
    "print(\"PEP instance generated\")"
   ]
  },
  {
   "cell_type": "code",
   "execution_count": 5,
   "id": "891876e7",
   "metadata": {},
   "outputs": [
    {
     "name": "stdout",
     "output_type": "stream",
     "text": [
      "Hull dimension of U1 =  0\n",
      "Hull dimension of U2 =  0\n",
      "--> Time for computing graphs =  0.0016245841979980469  s\n",
      "--> Time for solving GIP =  0.017229557037353516  s\n",
      "Reduction to GIP concluded, total time =  0.018854141235351562  s\n",
      "We found the correct permutation!\n"
     ]
    }
   ],
   "source": [
    "####compute hulls\n",
    "M1 = hull(Fq, G)\n",
    "M2 = hull(Fq, G_prime)\n",
    "\n",
    "##square hulls\n",
    "U1 = square_code(M1) #basis of square of hull for first code\n",
    "U2 = square_code(M2) #basis of square of hull for second code \n",
    "\n",
    "#Compute hulls and print their dimension\n",
    "#hull_U1 = hull(Fq, U1)\n",
    "#hull_U2 = hull(Fq, U2)\n",
    "print(\"Hull dimension of U1 = \",rank(U1)-rank(U1*U1.transpose()))\n",
    "print(\"Hull dimension of U2 = \",rank(U2)-rank(U2*U2.transpose()))\n",
    "\n",
    "#compute graphs\n",
    "start = time.time()\n",
    "A1 = graph_from_generator_matrix(U1)\n",
    "A2 = graph_from_generator_matrix(U2)\n",
    "end = time.time()\n",
    "time_gauss = end - start\n",
    "print(\"--> Time for computing graphs = \",time_gauss,\" s\")\n",
    "\n",
    "#solve GIP\n",
    "start = time.time()\n",
    "sol = simple_solve_GIP(Fq, A1, A2)\n",
    "end = time.time()\n",
    "time_GIP = end - start\n",
    "print(\"--> Time for solving GIP = \",time_GIP,\" s\")\n",
    "\n",
    "print(\"Reduction to GIP concluded, total time = \",time_gauss + time_GIP,\" s\")\n",
    "\n",
    "#Check validity of found permutation\n",
    "my_P = matrix(Fq, n, n)\n",
    "for i in range(n):\n",
    "#    print(sol[i])\n",
    "    j1 = sol[i][0]\n",
    "    j2 = sol[i][1]\n",
    "    my_P[j1, j2] = 1\n",
    "\n",
    "if my_P == P:\n",
    "    print(\"We found the correct permutation!\")\n",
    "else:\n",
    "    print(\"Found permutation is wrong, sorry :(\")"
   ]
  },
  {
   "cell_type": "markdown",
   "id": "d4be1412",
   "metadata": {},
   "source": [
    "#### If considering Signed PEP, try also finding scalar coefficients"
   ]
  },
  {
   "cell_type": "code",
   "execution_count": 7,
   "id": "d53f2700-c6a1-429a-a97f-2293f37c522d",
   "metadata": {},
   "outputs": [
    {
     "name": "stdout",
     "output_type": "stream",
     "text": [
      "Dimension of solution space =  1\n",
      "We retrieved also the scalar coefficients!\n",
      "Tot. time =  0.09004545211791992\n"
     ]
    }
   ],
   "source": [
    "time_in = time.time()\n",
    "\n",
    "##find D\n",
    "perm_G = G*my_P\n",
    "\n",
    "#set up matrix\n",
    "A = matrix(Fq,k*(n-k),n)\n",
    "num = 0\n",
    "\n",
    "H_prime = codes.LinearCode(G_prime).parity_check_matrix()\n",
    "\n",
    "for i in range(k):\n",
    "    for j in range(n-k):\n",
    "        for ell in range(n):\n",
    "            A[num,ell] = perm_G[i,ell]*H_prime[j,ell]\n",
    "        num += 1\n",
    "\n",
    "#find kernel of A\n",
    "solution_space = A.right_kernel()\n",
    "B = solution_space.basis()\n",
    "print(\"Dimension of solution space = \",len(B))\n",
    "\n",
    "b = B[0]\n",
    "\n",
    "b1 = b[0]^-1 * b\n",
    "b2 = -b1\n",
    "\n",
    "#see if b1 is ok\n",
    "ok1 = 1\n",
    "i = 0\n",
    "while (ok1 == 1)&(i<n):\n",
    "    if b1[i]==D[i,i]:\n",
    "        i += 1\n",
    "    else:\n",
    "        ok1 = 0\n",
    "\n",
    "#see if b2 is ok\n",
    "ok2 = 1\n",
    "i = 0\n",
    "while (ok2 == 1)&(i<n):\n",
    "    if b2[i]==D[i,i]:\n",
    "        i += 1\n",
    "    else:\n",
    "        ok2 = 0\n",
    "\n",
    "#check validity of solution\n",
    "if (ok1 == 1)|(ok2 == 1):\n",
    "    print(\"We retrieved also the scalar coefficients!\")\n",
    "else:\n",
    "    print(\"Something went wrong!\")\n",
    "    \n",
    "time_fin = time.time()\n",
    "\n",
    "print(\"Tot. time = \",time_fin - time_in)"
   ]
  },
  {
   "cell_type": "markdown",
   "id": "8da66e91-c454-4d80-a0d6-956e098212cc",
   "metadata": {},
   "source": [
    "##### Try finding $D$ using less equations\n",
    "\n",
    "If the matrix $\\mathbf A$ cannot be stored, use less equations"
   ]
  },
  {
   "cell_type": "code",
   "execution_count": 10,
   "id": "24b71a56",
   "metadata": {},
   "outputs": [
    {
     "name": "stdout",
     "output_type": "stream",
     "text": [
      "Dimension of solution space =  1\n",
      "We retrieved also the scalar coefficients!\n",
      "Tot. time =  0.019183635711669922\n"
     ]
    }
   ],
   "source": [
    "time_in = time.time()\n",
    "\n",
    "perm_G = G*my_P\n",
    "\n",
    "#sample change of basis\n",
    "rank_S1 = 0\n",
    "while rank_S1 < k:\n",
    "    S1 = random_matrix(Fq, k, k)\n",
    "    rank_S1 = rank(S1)\n",
    "rank_S2 = 0\n",
    "while rank_S2 < n-k:\n",
    "    S2 = random_matrix(Fq, n-k, n-k)\n",
    "    rank_S2 = rank(S2)\n",
    "\n",
    "perm_G = S1*perm_G\n",
    "H_prime = S2*codes.LinearCode(G_prime).parity_check_matrix()\n",
    "\n",
    "#set up matrix\n",
    "num_G = ceil(sqrt(n*k/(n-k)))+5\n",
    "num_H = ceil(sqrt(n*(n-k)/k))+5\n",
    "A = matrix(Fq,num_G*num_H,n)\n",
    "\n",
    "num = 0\n",
    "\n",
    "pos_G = Combinations(k,num_G).random_element()\n",
    "for i in pos_G:\n",
    "    pos_H = Combinations(n-k,num_H).random_element()\n",
    "    for j in pos_H:\n",
    "        for ell in range(n):\n",
    "            A[num,ell] = perm_G[i,ell]*H_prime[j,ell]\n",
    "        num += 1\n",
    "\n",
    "#find kernel of A\n",
    "solution_space = A.right_kernel()\n",
    "B = solution_space.basis()\n",
    "print(\"Dimension of solution space = \",len(B))\n",
    "\n",
    "b = B[0]\n",
    "\n",
    "b1 = b[0]^-1 * b\n",
    "b2 = -b1\n",
    "\n",
    "#see if b1 is ok\n",
    "ok1 = 1\n",
    "i = 0\n",
    "while (ok1 == 1)&(i<n):\n",
    "    if b1[i]==D[i,i]:\n",
    "        i += 1\n",
    "    else:\n",
    "        ok1 = 0\n",
    "\n",
    "#see if b2 is ok\n",
    "ok2 = 1\n",
    "i = 0\n",
    "while (ok2 == 1)&(i<n):\n",
    "    if b2[i]==D[i,i]:\n",
    "        i += 1\n",
    "    else:\n",
    "        ok2 = 0\n",
    "\n",
    "#check validity of solution\n",
    "if (ok1 == 1)|(ok2 == 1):\n",
    "    print(\"We retrieved also the scalar coefficients!\")\n",
    "else:\n",
    "    print(\"Something went wrong!\")\n",
    "    \n",
    "time_fin = time.time()\n",
    "\n",
    "print(\"Tot. time = \",time_fin - time_in)"
   ]
  }
 ],
 "metadata": {
  "kernelspec": {
   "display_name": "SageMath 10.1",
   "language": "sage",
   "name": "sagemath"
  },
  "language_info": {
   "codemirror_mode": {
    "name": "ipython",
    "version": 3
   },
   "file_extension": ".py",
   "mimetype": "text/x-python",
   "name": "python",
   "nbconvert_exporter": "python",
   "pygments_lexer": "ipython3",
   "version": "3.10.12"
  }
 },
 "nbformat": 4,
 "nbformat_minor": 5
}
